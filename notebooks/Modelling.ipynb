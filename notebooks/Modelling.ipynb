{
  "nbformat": 4,
  "nbformat_minor": 0,
  "metadata": {
    "colab": {
      "provenance": [],
      "authorship_tag": "ABX9TyPYFhMPB6ybcvOl4bqySnOi",
      "include_colab_link": true
    },
    "kernelspec": {
      "name": "python3",
      "display_name": "Python 3"
    },
    "language_info": {
      "name": "python"
    }
  },
  "cells": [
    {
      "cell_type": "markdown",
      "metadata": {
        "id": "view-in-github",
        "colab_type": "text"
      },
      "source": [
        "<a href=\"https://colab.research.google.com/github/amannain122/credit_risk_analysis/blob/main/notebooks/Modelling.ipynb\" target=\"_parent\"><img src=\"https://colab.research.google.com/assets/colab-badge.svg\" alt=\"Open In Colab\"/></a>"
      ]
    },
    {
      "cell_type": "code",
      "source": [
        "import pandas as pd\n",
        "import numpy as np\n",
        "import matplotlib.pyplot as plt\n",
        "import seaborn as sns\n",
        "from sklearn.model_selection import train_test_split\n",
        "from sklearn.linear_model import LogisticRegression, Perceptron\n",
        "from sklearn.ensemble import RandomForestClassifier\n",
        "import xgboost as xgb\n",
        "from sklearn.metrics import accuracy_score, roc_curve, roc_auc_score, confusion_matrix\n",
        "from sklearn.metrics import classification_report\n",
        "from sklearn.model_selection import cross_val_score, RandomizedSearchCV"
      ],
      "metadata": {
        "id": "Y1BJISQzsmd8"
      },
      "execution_count": 1,
      "outputs": []
    },
    {
      "cell_type": "code",
      "source": [
        "df = pd.read_csv('final_data.csv')\n",
        "df.head(5)"
      ],
      "metadata": {
        "colab": {
          "base_uri": "https://localhost:8080/",
          "height": 226
        },
        "id": "wqvYxbQKtDk0",
        "outputId": "85db079f-5196-4f01-c805-07665f3ef309"
      },
      "execution_count": 2,
      "outputs": [
        {
          "output_type": "execute_result",
          "data": {
            "text/plain": [
              "   person_income  loan_amnt  loan_int_rate  loan_percent_income  \\\n",
              "0       0.028557   0.014493       0.321348             0.109756   \n",
              "1       0.028557   0.144928       0.418539             0.682927   \n",
              "2       0.313616   1.000000       0.551124             0.634146   \n",
              "3       0.257012   1.000000       0.497191             0.658537   \n",
              "4       0.030087   0.057971       0.096629             0.292683   \n",
              "\n",
              "   default_history  loan_grades  person_home_ownership_MORTGAGE  \\\n",
              "0                0            2                             0.0   \n",
              "1                0            3                             1.0   \n",
              "2                0            3                             0.0   \n",
              "3                1            3                             0.0   \n",
              "4                0            1                             0.0   \n",
              "\n",
              "   person_home_ownership_OWN  person_home_ownership_RENT  loan_status  \n",
              "0                        1.0                         0.0            0  \n",
              "1                        0.0                         0.0            1  \n",
              "2                        0.0                         1.0            1  \n",
              "3                        0.0                         1.0            1  \n",
              "4                        1.0                         0.0            1  "
            ],
            "text/html": [
              "\n",
              "  <div id=\"df-f9f60f62-1948-4e9f-affb-68965cc89748\" class=\"colab-df-container\">\n",
              "    <div>\n",
              "<style scoped>\n",
              "    .dataframe tbody tr th:only-of-type {\n",
              "        vertical-align: middle;\n",
              "    }\n",
              "\n",
              "    .dataframe tbody tr th {\n",
              "        vertical-align: top;\n",
              "    }\n",
              "\n",
              "    .dataframe thead th {\n",
              "        text-align: right;\n",
              "    }\n",
              "</style>\n",
              "<table border=\"1\" class=\"dataframe\">\n",
              "  <thead>\n",
              "    <tr style=\"text-align: right;\">\n",
              "      <th></th>\n",
              "      <th>person_income</th>\n",
              "      <th>loan_amnt</th>\n",
              "      <th>loan_int_rate</th>\n",
              "      <th>loan_percent_income</th>\n",
              "      <th>default_history</th>\n",
              "      <th>loan_grades</th>\n",
              "      <th>person_home_ownership_MORTGAGE</th>\n",
              "      <th>person_home_ownership_OWN</th>\n",
              "      <th>person_home_ownership_RENT</th>\n",
              "      <th>loan_status</th>\n",
              "    </tr>\n",
              "  </thead>\n",
              "  <tbody>\n",
              "    <tr>\n",
              "      <th>0</th>\n",
              "      <td>0.028557</td>\n",
              "      <td>0.014493</td>\n",
              "      <td>0.321348</td>\n",
              "      <td>0.109756</td>\n",
              "      <td>0</td>\n",
              "      <td>2</td>\n",
              "      <td>0.0</td>\n",
              "      <td>1.0</td>\n",
              "      <td>0.0</td>\n",
              "      <td>0</td>\n",
              "    </tr>\n",
              "    <tr>\n",
              "      <th>1</th>\n",
              "      <td>0.028557</td>\n",
              "      <td>0.144928</td>\n",
              "      <td>0.418539</td>\n",
              "      <td>0.682927</td>\n",
              "      <td>0</td>\n",
              "      <td>3</td>\n",
              "      <td>1.0</td>\n",
              "      <td>0.0</td>\n",
              "      <td>0.0</td>\n",
              "      <td>1</td>\n",
              "    </tr>\n",
              "    <tr>\n",
              "      <th>2</th>\n",
              "      <td>0.313616</td>\n",
              "      <td>1.000000</td>\n",
              "      <td>0.551124</td>\n",
              "      <td>0.634146</td>\n",
              "      <td>0</td>\n",
              "      <td>3</td>\n",
              "      <td>0.0</td>\n",
              "      <td>0.0</td>\n",
              "      <td>1.0</td>\n",
              "      <td>1</td>\n",
              "    </tr>\n",
              "    <tr>\n",
              "      <th>3</th>\n",
              "      <td>0.257012</td>\n",
              "      <td>1.000000</td>\n",
              "      <td>0.497191</td>\n",
              "      <td>0.658537</td>\n",
              "      <td>1</td>\n",
              "      <td>3</td>\n",
              "      <td>0.0</td>\n",
              "      <td>0.0</td>\n",
              "      <td>1.0</td>\n",
              "      <td>1</td>\n",
              "    </tr>\n",
              "    <tr>\n",
              "      <th>4</th>\n",
              "      <td>0.030087</td>\n",
              "      <td>0.057971</td>\n",
              "      <td>0.096629</td>\n",
              "      <td>0.292683</td>\n",
              "      <td>0</td>\n",
              "      <td>1</td>\n",
              "      <td>0.0</td>\n",
              "      <td>1.0</td>\n",
              "      <td>0.0</td>\n",
              "      <td>1</td>\n",
              "    </tr>\n",
              "  </tbody>\n",
              "</table>\n",
              "</div>\n",
              "    <div class=\"colab-df-buttons\">\n",
              "\n",
              "  <div class=\"colab-df-container\">\n",
              "    <button class=\"colab-df-convert\" onclick=\"convertToInteractive('df-f9f60f62-1948-4e9f-affb-68965cc89748')\"\n",
              "            title=\"Convert this dataframe to an interactive table.\"\n",
              "            style=\"display:none;\">\n",
              "\n",
              "  <svg xmlns=\"http://www.w3.org/2000/svg\" height=\"24px\" viewBox=\"0 -960 960 960\">\n",
              "    <path d=\"M120-120v-720h720v720H120Zm60-500h600v-160H180v160Zm220 220h160v-160H400v160Zm0 220h160v-160H400v160ZM180-400h160v-160H180v160Zm440 0h160v-160H620v160ZM180-180h160v-160H180v160Zm440 0h160v-160H620v160Z\"/>\n",
              "  </svg>\n",
              "    </button>\n",
              "\n",
              "  <style>\n",
              "    .colab-df-container {\n",
              "      display:flex;\n",
              "      gap: 12px;\n",
              "    }\n",
              "\n",
              "    .colab-df-convert {\n",
              "      background-color: #E8F0FE;\n",
              "      border: none;\n",
              "      border-radius: 50%;\n",
              "      cursor: pointer;\n",
              "      display: none;\n",
              "      fill: #1967D2;\n",
              "      height: 32px;\n",
              "      padding: 0 0 0 0;\n",
              "      width: 32px;\n",
              "    }\n",
              "\n",
              "    .colab-df-convert:hover {\n",
              "      background-color: #E2EBFA;\n",
              "      box-shadow: 0px 1px 2px rgba(60, 64, 67, 0.3), 0px 1px 3px 1px rgba(60, 64, 67, 0.15);\n",
              "      fill: #174EA6;\n",
              "    }\n",
              "\n",
              "    .colab-df-buttons div {\n",
              "      margin-bottom: 4px;\n",
              "    }\n",
              "\n",
              "    [theme=dark] .colab-df-convert {\n",
              "      background-color: #3B4455;\n",
              "      fill: #D2E3FC;\n",
              "    }\n",
              "\n",
              "    [theme=dark] .colab-df-convert:hover {\n",
              "      background-color: #434B5C;\n",
              "      box-shadow: 0px 1px 3px 1px rgba(0, 0, 0, 0.15);\n",
              "      filter: drop-shadow(0px 1px 2px rgba(0, 0, 0, 0.3));\n",
              "      fill: #FFFFFF;\n",
              "    }\n",
              "  </style>\n",
              "\n",
              "    <script>\n",
              "      const buttonEl =\n",
              "        document.querySelector('#df-f9f60f62-1948-4e9f-affb-68965cc89748 button.colab-df-convert');\n",
              "      buttonEl.style.display =\n",
              "        google.colab.kernel.accessAllowed ? 'block' : 'none';\n",
              "\n",
              "      async function convertToInteractive(key) {\n",
              "        const element = document.querySelector('#df-f9f60f62-1948-4e9f-affb-68965cc89748');\n",
              "        const dataTable =\n",
              "          await google.colab.kernel.invokeFunction('convertToInteractive',\n",
              "                                                    [key], {});\n",
              "        if (!dataTable) return;\n",
              "\n",
              "        const docLinkHtml = 'Like what you see? Visit the ' +\n",
              "          '<a target=\"_blank\" href=https://colab.research.google.com/notebooks/data_table.ipynb>data table notebook</a>'\n",
              "          + ' to learn more about interactive tables.';\n",
              "        element.innerHTML = '';\n",
              "        dataTable['output_type'] = 'display_data';\n",
              "        await google.colab.output.renderOutput(dataTable, element);\n",
              "        const docLink = document.createElement('div');\n",
              "        docLink.innerHTML = docLinkHtml;\n",
              "        element.appendChild(docLink);\n",
              "      }\n",
              "    </script>\n",
              "  </div>\n",
              "\n",
              "\n",
              "<div id=\"df-50632792-f74c-499f-9c8a-69348ee61f90\">\n",
              "  <button class=\"colab-df-quickchart\" onclick=\"quickchart('df-50632792-f74c-499f-9c8a-69348ee61f90')\"\n",
              "            title=\"Suggest charts\"\n",
              "            style=\"display:none;\">\n",
              "\n",
              "<svg xmlns=\"http://www.w3.org/2000/svg\" height=\"24px\"viewBox=\"0 0 24 24\"\n",
              "     width=\"24px\">\n",
              "    <g>\n",
              "        <path d=\"M19 3H5c-1.1 0-2 .9-2 2v14c0 1.1.9 2 2 2h14c1.1 0 2-.9 2-2V5c0-1.1-.9-2-2-2zM9 17H7v-7h2v7zm4 0h-2V7h2v10zm4 0h-2v-4h2v4z\"/>\n",
              "    </g>\n",
              "</svg>\n",
              "  </button>\n",
              "\n",
              "<style>\n",
              "  .colab-df-quickchart {\n",
              "      --bg-color: #E8F0FE;\n",
              "      --fill-color: #1967D2;\n",
              "      --hover-bg-color: #E2EBFA;\n",
              "      --hover-fill-color: #174EA6;\n",
              "      --disabled-fill-color: #AAA;\n",
              "      --disabled-bg-color: #DDD;\n",
              "  }\n",
              "\n",
              "  [theme=dark] .colab-df-quickchart {\n",
              "      --bg-color: #3B4455;\n",
              "      --fill-color: #D2E3FC;\n",
              "      --hover-bg-color: #434B5C;\n",
              "      --hover-fill-color: #FFFFFF;\n",
              "      --disabled-bg-color: #3B4455;\n",
              "      --disabled-fill-color: #666;\n",
              "  }\n",
              "\n",
              "  .colab-df-quickchart {\n",
              "    background-color: var(--bg-color);\n",
              "    border: none;\n",
              "    border-radius: 50%;\n",
              "    cursor: pointer;\n",
              "    display: none;\n",
              "    fill: var(--fill-color);\n",
              "    height: 32px;\n",
              "    padding: 0;\n",
              "    width: 32px;\n",
              "  }\n",
              "\n",
              "  .colab-df-quickchart:hover {\n",
              "    background-color: var(--hover-bg-color);\n",
              "    box-shadow: 0 1px 2px rgba(60, 64, 67, 0.3), 0 1px 3px 1px rgba(60, 64, 67, 0.15);\n",
              "    fill: var(--button-hover-fill-color);\n",
              "  }\n",
              "\n",
              "  .colab-df-quickchart-complete:disabled,\n",
              "  .colab-df-quickchart-complete:disabled:hover {\n",
              "    background-color: var(--disabled-bg-color);\n",
              "    fill: var(--disabled-fill-color);\n",
              "    box-shadow: none;\n",
              "  }\n",
              "\n",
              "  .colab-df-spinner {\n",
              "    border: 2px solid var(--fill-color);\n",
              "    border-color: transparent;\n",
              "    border-bottom-color: var(--fill-color);\n",
              "    animation:\n",
              "      spin 1s steps(1) infinite;\n",
              "  }\n",
              "\n",
              "  @keyframes spin {\n",
              "    0% {\n",
              "      border-color: transparent;\n",
              "      border-bottom-color: var(--fill-color);\n",
              "      border-left-color: var(--fill-color);\n",
              "    }\n",
              "    20% {\n",
              "      border-color: transparent;\n",
              "      border-left-color: var(--fill-color);\n",
              "      border-top-color: var(--fill-color);\n",
              "    }\n",
              "    30% {\n",
              "      border-color: transparent;\n",
              "      border-left-color: var(--fill-color);\n",
              "      border-top-color: var(--fill-color);\n",
              "      border-right-color: var(--fill-color);\n",
              "    }\n",
              "    40% {\n",
              "      border-color: transparent;\n",
              "      border-right-color: var(--fill-color);\n",
              "      border-top-color: var(--fill-color);\n",
              "    }\n",
              "    60% {\n",
              "      border-color: transparent;\n",
              "      border-right-color: var(--fill-color);\n",
              "    }\n",
              "    80% {\n",
              "      border-color: transparent;\n",
              "      border-right-color: var(--fill-color);\n",
              "      border-bottom-color: var(--fill-color);\n",
              "    }\n",
              "    90% {\n",
              "      border-color: transparent;\n",
              "      border-bottom-color: var(--fill-color);\n",
              "    }\n",
              "  }\n",
              "</style>\n",
              "\n",
              "  <script>\n",
              "    async function quickchart(key) {\n",
              "      const quickchartButtonEl =\n",
              "        document.querySelector('#' + key + ' button');\n",
              "      quickchartButtonEl.disabled = true;  // To prevent multiple clicks.\n",
              "      quickchartButtonEl.classList.add('colab-df-spinner');\n",
              "      try {\n",
              "        const charts = await google.colab.kernel.invokeFunction(\n",
              "            'suggestCharts', [key], {});\n",
              "      } catch (error) {\n",
              "        console.error('Error during call to suggestCharts:', error);\n",
              "      }\n",
              "      quickchartButtonEl.classList.remove('colab-df-spinner');\n",
              "      quickchartButtonEl.classList.add('colab-df-quickchart-complete');\n",
              "    }\n",
              "    (() => {\n",
              "      let quickchartButtonEl =\n",
              "        document.querySelector('#df-50632792-f74c-499f-9c8a-69348ee61f90 button');\n",
              "      quickchartButtonEl.style.display =\n",
              "        google.colab.kernel.accessAllowed ? 'block' : 'none';\n",
              "    })();\n",
              "  </script>\n",
              "</div>\n",
              "\n",
              "    </div>\n",
              "  </div>\n"
            ],
            "application/vnd.google.colaboratory.intrinsic+json": {
              "type": "dataframe",
              "variable_name": "df",
              "summary": "{\n  \"name\": \"df\",\n  \"rows\": 30976,\n  \"fields\": [\n    {\n      \"column\": \"person_income\",\n      \"properties\": {\n        \"dtype\": \"number\",\n        \"std\": 0.16882842951505528,\n        \"min\": 0.0,\n        \"max\": 1.0,\n        \"num_unique_values\": 3939,\n        \"samples\": [\n          0.3196838347781744,\n          0.2600152983171851,\n          0.3276389597144314\n        ],\n        \"semantic_type\": \"\",\n        \"description\": \"\"\n      }\n    },\n    {\n      \"column\": \"loan_amnt\",\n      \"properties\": {\n        \"dtype\": \"number\",\n        \"std\": 0.17989557116692392,\n        \"min\": 0.0,\n        \"max\": 1.0,\n        \"num_unique_values\": 743,\n        \"samples\": [\n          0.8420289855072464,\n          0.3260869565217391,\n          0.3181159420289854\n        ],\n        \"semantic_type\": \"\",\n        \"description\": \"\"\n      }\n    },\n    {\n      \"column\": \"loan_int_rate\",\n      \"properties\": {\n        \"dtype\": \"number\",\n        \"std\": 0.17231833246707873,\n        \"min\": 0.0,\n        \"max\": 1.0000000000000002,\n        \"num_unique_values\": 348,\n        \"samples\": [\n          0.8359550561797755,\n          0.765168539325843,\n          0.6522471910112362\n        ],\n        \"semantic_type\": \"\",\n        \"description\": \"\"\n      }\n    },\n    {\n      \"column\": \"loan_percent_income\",\n      \"properties\": {\n        \"dtype\": \"number\",\n        \"std\": 0.1294577159842323,\n        \"min\": 0.0,\n        \"max\": 1.0,\n        \"num_unique_values\": 76,\n        \"samples\": [\n          0.2926829268292683,\n          0.3292682926829268,\n          0.4390243902439024\n        ],\n        \"semantic_type\": \"\",\n        \"description\": \"\"\n      }\n    },\n    {\n      \"column\": \"default_history\",\n      \"properties\": {\n        \"dtype\": \"number\",\n        \"std\": 0,\n        \"min\": 0,\n        \"max\": 1,\n        \"num_unique_values\": 2,\n        \"samples\": [\n          1,\n          0\n        ],\n        \"semantic_type\": \"\",\n        \"description\": \"\"\n      }\n    },\n    {\n      \"column\": \"loan_grades\",\n      \"properties\": {\n        \"dtype\": \"number\",\n        \"std\": 1,\n        \"min\": 1,\n        \"max\": 7,\n        \"num_unique_values\": 7,\n        \"samples\": [\n          2,\n          3\n        ],\n        \"semantic_type\": \"\",\n        \"description\": \"\"\n      }\n    },\n    {\n      \"column\": \"person_home_ownership_MORTGAGE\",\n      \"properties\": {\n        \"dtype\": \"number\",\n        \"std\": 0.49170979541022464,\n        \"min\": 0.0,\n        \"max\": 1.0,\n        \"num_unique_values\": 2,\n        \"samples\": [\n          1.0,\n          0.0\n        ],\n        \"semantic_type\": \"\",\n        \"description\": \"\"\n      }\n    },\n    {\n      \"column\": \"person_home_ownership_OWN\",\n      \"properties\": {\n        \"dtype\": \"number\",\n        \"std\": 0.26473484144442666,\n        \"min\": 0.0,\n        \"max\": 1.0,\n        \"num_unique_values\": 2,\n        \"samples\": [\n          0.0,\n          1.0\n        ],\n        \"semantic_type\": \"\",\n        \"description\": \"\"\n      }\n    },\n    {\n      \"column\": \"person_home_ownership_RENT\",\n      \"properties\": {\n        \"dtype\": \"number\",\n        \"std\": 0.49987447897173753,\n        \"min\": 0.0,\n        \"max\": 1.0,\n        \"num_unique_values\": 2,\n        \"samples\": [\n          1.0,\n          0.0\n        ],\n        \"semantic_type\": \"\",\n        \"description\": \"\"\n      }\n    },\n    {\n      \"column\": \"loan_status\",\n      \"properties\": {\n        \"dtype\": \"number\",\n        \"std\": 0,\n        \"min\": 0,\n        \"max\": 1,\n        \"num_unique_values\": 2,\n        \"samples\": [\n          1,\n          0\n        ],\n        \"semantic_type\": \"\",\n        \"description\": \"\"\n      }\n    }\n  ]\n}"
            }
          },
          "metadata": {},
          "execution_count": 2
        }
      ]
    },
    {
      "cell_type": "code",
      "source": [
        "X = df.drop('loan_status', axis=1)\n",
        "y = df['loan_status']"
      ],
      "metadata": {
        "id": "WlSvba-9tWeE"
      },
      "execution_count": 3,
      "outputs": []
    },
    {
      "cell_type": "code",
      "source": [
        "X_train, X_test, y_train, y_test = train_test_split(X, y, test_size=0.2, random_state=42)"
      ],
      "metadata": {
        "id": "S5195Nzhteji"
      },
      "execution_count": 4,
      "outputs": []
    },
    {
      "cell_type": "markdown",
      "source": [
        "## Logistic Regression"
      ],
      "metadata": {
        "id": "XL7ZYDjVsvDk"
      }
    },
    {
      "cell_type": "code",
      "source": [
        "model = LogisticRegression()\n",
        "model.fit(X_train, y_train)\n",
        "\n",
        "train_pred = model.predict(X_train)\n",
        "test_pred = model.predict(X_test)\n",
        "\n",
        "print(\"Train Accuracy:\", accuracy_score(y_train, train_pred))\n",
        "print(\"Test Accuracy:\", accuracy_score(y_test, test_pred))\n",
        "print(classification_report(y_test, test_pred))"
      ],
      "metadata": {
        "colab": {
          "base_uri": "https://localhost:8080/"
        },
        "id": "GgG8A9h6tmry",
        "outputId": "f8f4924a-0bdd-4ef1-bd61-f0d8b64d2ccd"
      },
      "execution_count": 5,
      "outputs": [
        {
          "output_type": "stream",
          "name": "stdout",
          "text": [
            "Train Accuracy: 0.8507667473769168\n",
            "Test Accuracy: 0.855067785668173\n",
            "              precision    recall  f1-score   support\n",
            "\n",
            "           0       0.88      0.95      0.91      4918\n",
            "           1       0.72      0.48      0.58      1278\n",
            "\n",
            "    accuracy                           0.86      6196\n",
            "   macro avg       0.80      0.72      0.75      6196\n",
            "weighted avg       0.84      0.86      0.84      6196\n",
            "\n"
          ]
        }
      ]
    },
    {
      "cell_type": "markdown",
      "source": [
        "## Random Forest"
      ],
      "metadata": {
        "id": "nTaZNNFEsxWs"
      }
    },
    {
      "cell_type": "code",
      "source": [
        "rf_model = RandomForestClassifier()\n",
        "rf_model.fit(X_train, y_train)\n",
        "\n",
        "train_pred_rf = rf_model.predict(X_train)\n",
        "test_pred_rf = rf_model.predict(X_test)\n",
        "\n",
        "print(\"Train Accuracy:\", accuracy_score(y_train, train_pred_rf))\n",
        "print(\"Test Accuracy:\", accuracy_score(y_test, test_pred_rf))\n",
        "print('\\n', classification_report(y_test, test_pred_rf))"
      ],
      "metadata": {
        "colab": {
          "base_uri": "https://localhost:8080/"
        },
        "id": "7bavg-Lbs36I",
        "outputId": "6028c500-4e2f-4176-9bd7-e74d872c0c58"
      },
      "execution_count": 6,
      "outputs": [
        {
          "output_type": "stream",
          "name": "stdout",
          "text": [
            "Train Accuracy: 0.9986682808716707\n",
            "Test Accuracy: 0.9038089089735313\n",
            "\n",
            "               precision    recall  f1-score   support\n",
            "\n",
            "           0       0.92      0.96      0.94      4918\n",
            "           1       0.82      0.68      0.75      1278\n",
            "\n",
            "    accuracy                           0.90      6196\n",
            "   macro avg       0.87      0.82      0.84      6196\n",
            "weighted avg       0.90      0.90      0.90      6196\n",
            "\n"
          ]
        }
      ]
    },
    {
      "cell_type": "markdown",
      "source": [
        "## XGBoost"
      ],
      "metadata": {
        "id": "PKJHB63js4gQ"
      }
    },
    {
      "cell_type": "code",
      "source": [
        "xgb_model = xgb.XGBClassifier()\n",
        "xgb_model.fit(X_train, y_train)\n",
        "\n",
        "train_pred_xgb = xgb_model.predict(X_train)\n",
        "test_pred_xgb = xgb_model.predict(X_test)\n",
        "\n",
        "print(\"Train Accuracy:\", accuracy_score(y_train, train_pred_xgb))\n",
        "print(\"Test Accuracy:\", accuracy_score(y_test, test_pred_xgb))\n",
        "print(classification_report(y_test, test_pred_xgb))"
      ],
      "metadata": {
        "colab": {
          "base_uri": "https://localhost:8080/"
        },
        "id": "wWvCbf7hs7Ef",
        "outputId": "91a5c416-37ba-4238-f065-91b87a2d3b96"
      },
      "execution_count": 7,
      "outputs": [
        {
          "output_type": "stream",
          "name": "stdout",
          "text": [
            "Train Accuracy: 0.9357949959644875\n",
            "Test Accuracy: 0.9091349257585539\n",
            "              precision    recall  f1-score   support\n",
            "\n",
            "           0       0.92      0.97      0.94      4918\n",
            "           1       0.85      0.68      0.75      1278\n",
            "\n",
            "    accuracy                           0.91      6196\n",
            "   macro avg       0.89      0.82      0.85      6196\n",
            "weighted avg       0.91      0.91      0.91      6196\n",
            "\n"
          ]
        }
      ]
    },
    {
      "cell_type": "markdown",
      "source": [
        "## Perceptron"
      ],
      "metadata": {
        "id": "qdV8J-ots7re"
      }
    },
    {
      "cell_type": "code",
      "source": [
        "ai = Perceptron()\n",
        "ai.fit(X_train, y_train)\n",
        "\n",
        "train_pred_ai = ai.predict(X_train)\n",
        "test_pred_ai = ai.predict(X_test)\n",
        "\n",
        "print(\"Train Accuracy:\", accuracy_score(y_train, train_pred_ai))\n",
        "print(\"Test Accuracy:\", accuracy_score(y_test, test_pred_ai))\n",
        "print(classification_report(y_test, test_pred_ai))"
      ],
      "metadata": {
        "colab": {
          "base_uri": "https://localhost:8080/"
        },
        "id": "G7NCiUUvs-2c",
        "outputId": "a6e604fb-613a-42f8-c124-f4e652bea1ba"
      },
      "execution_count": 8,
      "outputs": [
        {
          "output_type": "stream",
          "name": "stdout",
          "text": [
            "Train Accuracy: 0.8208232445520581\n",
            "Test Accuracy: 0.8202065848934796\n",
            "              precision    recall  f1-score   support\n",
            "\n",
            "           0       0.91      0.86      0.88      4918\n",
            "           1       0.55      0.67      0.61      1278\n",
            "\n",
            "    accuracy                           0.82      6196\n",
            "   macro avg       0.73      0.77      0.75      6196\n",
            "weighted avg       0.84      0.82      0.83      6196\n",
            "\n"
          ]
        }
      ]
    },
    {
      "cell_type": "markdown",
      "source": [
        "## Comparisons"
      ],
      "metadata": {
        "id": "R2OVK-b6uAZ1"
      }
    },
    {
      "cell_type": "code",
      "source": [
        "lr_auc = roc_curve(y_test, test_pred)\n",
        "rf_auc = roc_curve(y_test, test_pred_rf)\n",
        "xgb_auc = roc_curve(y_test, test_pred_xgb)\n",
        "ai_auc = roc_curve(y_test, test_pred_ai)\n",
        "\n",
        "scores = [lr_auc, rf_auc, xgb_auc, ai_auc]"
      ],
      "metadata": {
        "id": "ypj1-xTNuCHC"
      },
      "execution_count": 9,
      "outputs": []
    },
    {
      "cell_type": "code",
      "source": [
        "Models = ['Logistic Regression', 'Random Forest', 'XGBoost', 'Perceptron']\n",
        "plt.figure(figsize=(10, 6))\n",
        "for i, score in enumerate(scores):\n",
        "    plt.plot(score[0], score[1], label=Models[i])\n",
        "plt.xlabel('False Positive Rate')\n",
        "plt.ylabel('True Positive Rate')\n",
        "plt.title('ROC Curves')\n",
        "plt.legend()\n",
        "plt.show()"
      ],
      "metadata": {
        "colab": {
          "base_uri": "https://localhost:8080/",
          "height": 564
        },
        "id": "sR5XKI_ouMLq",
        "outputId": "e88d46d2-a7e2-46b8-937b-dadbabc9dc70"
      },
      "execution_count": 10,
      "outputs": [
        {
          "output_type": "display_data",
          "data": {
            "text/plain": [
              "<Figure size 1000x600 with 1 Axes>"
            ],
            "image/png": "[encoded data removed]"
          },
          "metadata": {}
        }
      ]
    },
    {
      "cell_type": "code",
      "source": [
        "lr_auc = roc_auc_score(y_test, test_pred)\n",
        "rf_auc = roc_auc_score(y_test, test_pred_rf)\n",
        "xgb_auc = roc_auc_score(y_test, test_pred_xgb)\n",
        "ai_auc = roc_auc_score(y_test, test_pred_ai)\n",
        "\n",
        "print(\"Logistic Regression AUC:\", lr_auc)\n",
        "print(\"Perceptron AUC:\", ai_auc)\n",
        "print(\"Random Forest AUC:\", rf_auc)\n",
        "print(\"XGBoost AUC:\", xgb_auc)"
      ],
      "metadata": {
        "colab": {
          "base_uri": "https://localhost:8080/"
        },
        "id": "iRzdorqn2avH",
        "outputId": "83a34b87-4b68-49fb-86bf-9c42ef62ee87"
      },
      "execution_count": 11,
      "outputs": [
        {
          "output_type": "stream",
          "name": "stdout",
          "text": [
            "Logistic Regression AUC: 0.7170080716552717\n",
            "Perceptron AUC: 0.7662818899752498\n",
            "Random Forest AUC: 0.822130832984896\n",
            "XGBoost AUC: 0.8231693036534693\n"
          ]
        }
      ]
    },
    {
      "cell_type": "markdown",
      "source": [
        "## Model Tuning using Cross Validation"
      ],
      "metadata": {
        "id": "W5cKcwvTw_np"
      }
    },
    {
      "cell_type": "markdown",
      "source": [
        "There is overfitting and that is due to multicollinearity let's train random forest and xgboost with pruning\n",
        "\n"
      ],
      "metadata": {
        "id": "0vW25dEQvRSb"
      }
    },
    {
      "cell_type": "code",
      "source": [
        "xgb_model2 = xgb.XGBClassifier(learning_rate = 0.2, max_depth = 6, n_estimators = 50)\n",
        "\n",
        "param_grid = {\n",
        "    'n_estimators': [50,100,150,200,250,300,400,450,500,600,700,650,550,750,850,800,900,950,1000,1050,1100],\n",
        "    'learning_rate': [0.01, 0.1, 0.2, 0.3],\n",
        "    'max_depth': [1,2,7,8,9,3, 4, 5, 6]\n",
        "}\n",
        "\n",
        "random_search_xgb = RandomizedSearchCV(xgb_model, param_grid, n_iter=10, cv=5, scoring='accuracy', random_state=42)\n",
        "random_search_xgb.fit(X_train, y_train)\n",
        "\n",
        "train_pred_xgb2 = random_search_xgb.predict(X_train)\n",
        "test_pred_xgb2 = random_search_xgb.predict(X_test)\n",
        "\n",
        "print(\"Best Parameters:\", random_search_xgb.best_params_)\n",
        "print(\"Train Accuracy:\", accuracy_score(y_train, train_pred_xgb2))\n",
        "print(\"Test Accuracy:\", accuracy_score(y_test, test_pred_xgb2))"
      ],
      "metadata": {
        "colab": {
          "base_uri": "https://localhost:8080/"
        },
        "id": "SM80viZxvKWr",
        "outputId": "3670b2c3-ac32-4e83-f816-27a2ec837860"
      },
      "execution_count": 12,
      "outputs": [
        {
          "output_type": "stream",
          "name": "stdout",
          "text": [
            "Best Parameters: {'n_estimators': 800, 'max_depth': 2, 'learning_rate': 0.3}\n",
            "Train Accuracy: 0.9170702179176755\n",
            "Test Accuracy: 0.9138153647514525\n"
          ]
        }
      ]
    },
    {
      "cell_type": "code",
      "source": [
        "rf = RandomForestClassifier()\n",
        "param_grid = {\n",
        "    'max_depth': [3, 5, 7, 9, 11],\n",
        "    'n_estimators': [100, 200, 300, 400, 500],\n",
        "    'min_samples_split': [2, 5, 10],\n",
        "    'min_samples_leaf' : [1, 2, 4]\n",
        "}\n",
        "\n",
        "random_search_rf = RandomizedSearchCV(rf, param_grid, n_iter=10, cv=5, scoring='accuracy', random_state=42)\n",
        "random_search_rf.fit(X_train, y_train)\n",
        "\n",
        "train_pred_rf2 = random_search_rf.predict(X_train)\n",
        "test_pred_rf2 = random_search_rf.predict(X_test)\n",
        "\n",
        "print(\"Best Parameters:\", random_search_rf.best_params_)\n",
        "print(\"Train Accuracy:\", accuracy_score(y_train, train_pred_rf2))\n",
        "print(\"Test Accuracy:\", accuracy_score(y_test, test_pred_rf2))"
      ],
      "metadata": {
        "colab": {
          "base_uri": "https://localhost:8080/"
        },
        "id": "2safS4MAwUYf",
        "outputId": "ebe14514-31bf-4d7d-c0f9-487ea6aa284c"
      },
      "execution_count": 13,
      "outputs": [
        {
          "output_type": "stream",
          "name": "stdout",
          "text": [
            "Best Parameters: {'n_estimators': 300, 'min_samples_split': 10, 'min_samples_leaf': 2, 'max_depth': 11}\n",
            "Train Accuracy: 0.9154963680387409\n",
            "Test Accuracy: 0.9009038089089735\n"
          ]
        }
      ]
    },
    {
      "cell_type": "code",
      "source": [
        "rf_2_auc = roc_auc_score(y_test, test_pred_rf2)\n",
        "xgb_2_auc = roc_auc_score(y_test, test_pred_xgb2)\n",
        "\n",
        "print(\"Random Forest AUC:\", rf_2_auc)\n",
        "print(\"XGBoost AUC:\", xgb_2_auc)\n",
        "\n",
        "rf_auc2 = roc_curve(y_test, test_pred_rf2)\n",
        "xgb_auc2 = roc_curve(y_test, test_pred_xgb2)\n",
        "best_scores = [rf_auc2, xgb_auc2]\n",
        "best_models = ['Random Forest', 'XGBoost']\n",
        "\n",
        "plt.figure(figsize=(10, 6))\n",
        "for i, score in enumerate(best_scores):\n",
        "    plt.plot(score[0], score[1], label=best_models[i])\n",
        "plt.xlabel('False Positive Rate')\n",
        "plt.ylabel('True Positive Rate')\n",
        "plt.title('ROC Curves')\n",
        "plt.legend()"
      ],
      "metadata": {
        "colab": {
          "base_uri": "https://localhost:8080/",
          "height": 616
        },
        "id": "kWqdHNMp2MGt",
        "outputId": "c5cc3180-42c2-48f0-b1f3-52108008fa13"
      },
      "execution_count": 14,
      "outputs": [
        {
          "output_type": "stream",
          "name": "stdout",
          "text": [
            "Random Forest AUC: 0.8130615967278071\n",
            "XGBoost AUC: 0.8238011049442469\n"
          ]
        },
        {
          "output_type": "execute_result",
          "data": {
            "text/plain": [
              "<matplotlib.legend.Legend at 0x7945464b7dc0>"
            ]
          },
          "metadata": {},
          "execution_count": 14
        },
        {
          "output_type": "display_data",
          "data": {
            "text/plain": [
              "<Figure size 1000x600 with 1 Axes>"
            ],
            "image/png": "[encoded data removed]"
          },
          "metadata": {}
        }
      ]
    },
    {
      "cell_type": "code",
      "source": [
        "rf_cfn = confusion_matrix(y_test, test_pred_rf2)\n",
        "xgb_cfn = confusion_matrix(y_test, test_pred_xgb2)\n",
        "cfn = [rf_cfn, xgb_cfn]\n",
        "cfn_models = ['Random Forest', 'XGBoost']\n",
        "\n",
        "plt.figure(figsize=(10, 6))\n",
        "for i, cfn_matrix in enumerate(cfn):\n",
        "    plt.subplot(1, 2, i + 1)\n",
        "    sns.heatmap(cfn_matrix, annot=True, fmt='d', cmap='Blues', cbar = False)\n",
        "    plt.title(cfn_models[i])\n",
        "    plt.xlabel('Predicted')\n",
        "    plt.ylabel('Actual')\n",
        "plt.tight_layout()\n",
        "plt.show()"
      ],
      "metadata": {
        "colab": {
          "base_uri": "https://localhost:8080/",
          "height": 607
        },
        "id": "yne_4Hcr2Lwn",
        "outputId": "41364b11-0f08-42aa-b998-89c64f9b64af"
      },
      "execution_count": 15,
      "outputs": [
        {
          "output_type": "display_data",
          "data": {
            "text/plain": [
              "<Figure size 1000x600 with 2 Axes>"
            ],
            "image/png": "[encoded data removed]"
          },
          "metadata": {}
        }
      ]
    },
    {
      "cell_type": "code",
      "source": [
        "import joblib\n",
        "\n",
        "joblib.dump(random_search_xgb, 'best_model.pkl')\n",
        "joblib.dump(random_search_rf, 'rf.pkl')"
      ],
      "metadata": {
        "colab": {
          "base_uri": "https://localhost:8080/"
        },
        "id": "fPsUp-rWzCYV",
        "outputId": "64464e30-6321-46f7-cd28-5be8ef294a30"
      },
      "execution_count": 16,
      "outputs": [
        {
          "output_type": "execute_result",
          "data": {
            "text/plain": [
              "['rf.pkl']"
            ]
          },
          "metadata": {},
          "execution_count": 16
        }
      ]
    }
  ]
}